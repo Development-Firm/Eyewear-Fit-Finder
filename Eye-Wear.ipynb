{
 "cells": [
  {
   "cell_type": "code",
   "execution_count": 1,
   "id": "367c3391",
   "metadata": {},
   "outputs": [
    {
     "name": "stdout",
     "output_type": "stream",
     "text": [
      "Collecting mediapipe\n",
      "  Downloading mediapipe-0.9.1.0-cp39-cp39-manylinux_2_17_x86_64.manylinux2014_x86_64.whl (33.0 MB)\n",
      "\u001b[K     |████████████████████████████████| 33.0 MB 1.2 MB/s eta 0:00:01\n",
      "\u001b[?25hRequirement already satisfied: matplotlib in /home/muzamil/miniconda3/lib/python3.9/site-packages (from mediapipe) (3.6.2)\n",
      "Requirement already satisfied: attrs>=19.1.0 in /home/muzamil/miniconda3/lib/python3.9/site-packages (from mediapipe) (22.1.0)\n",
      "Requirement already satisfied: flatbuffers>=2.0 in /home/muzamil/miniconda3/lib/python3.9/site-packages (from mediapipe) (23.1.4)\n",
      "Collecting opencv-contrib-python\n",
      "  Downloading opencv_contrib_python-4.7.0.72-cp37-abi3-manylinux_2_17_x86_64.manylinux2014_x86_64.whl (67.9 MB)\n",
      "\u001b[K     |████████████████████████████████| 67.9 MB 148 kB/s eta 0:00:01     |█████████████████▉              | 37.8 MB 1.9 MB/s eta 0:00:17     |████████████████████████████    | 59.4 MB 732 kB/s eta 0:00:12     |█████████████████████████████   | 61.7 MB 382 kB/s eta 0:00:17     |█████████████████████████████▏  | 62.0 MB 382 kB/s eta 0:00:16\n",
      "\u001b[?25hRequirement already satisfied: protobuf<4,>=3.11 in /home/muzamil/miniconda3/lib/python3.9/site-packages (from mediapipe) (3.19.6)\n",
      "Requirement already satisfied: numpy in /home/muzamil/miniconda3/lib/python3.9/site-packages (from mediapipe) (1.23.5)\n",
      "Requirement already satisfied: absl-py in /home/muzamil/miniconda3/lib/python3.9/site-packages (from mediapipe) (1.3.0)\n",
      "Requirement already satisfied: python-dateutil>=2.7 in /home/muzamil/miniconda3/lib/python3.9/site-packages (from matplotlib->mediapipe) (2.8.2)\n",
      "Requirement already satisfied: kiwisolver>=1.0.1 in /home/muzamil/miniconda3/lib/python3.9/site-packages (from matplotlib->mediapipe) (1.4.4)\n",
      "Requirement already satisfied: pillow>=6.2.0 in /home/muzamil/miniconda3/lib/python3.9/site-packages (from matplotlib->mediapipe) (9.3.0)\n",
      "Requirement already satisfied: fonttools>=4.22.0 in /home/muzamil/miniconda3/lib/python3.9/site-packages (from matplotlib->mediapipe) (4.38.0)\n",
      "Requirement already satisfied: pyparsing>=2.2.1 in /home/muzamil/miniconda3/lib/python3.9/site-packages (from matplotlib->mediapipe) (3.0.9)\n",
      "Requirement already satisfied: packaging>=20.0 in /home/muzamil/miniconda3/lib/python3.9/site-packages (from matplotlib->mediapipe) (22.0)\n",
      "Requirement already satisfied: cycler>=0.10 in /home/muzamil/miniconda3/lib/python3.9/site-packages (from matplotlib->mediapipe) (0.11.0)\n",
      "Requirement already satisfied: contourpy>=1.0.1 in /home/muzamil/miniconda3/lib/python3.9/site-packages (from matplotlib->mediapipe) (1.0.6)\n",
      "Requirement already satisfied: six>=1.5 in /home/muzamil/miniconda3/lib/python3.9/site-packages (from python-dateutil>=2.7->matplotlib->mediapipe) (1.16.0)\n",
      "Installing collected packages: opencv-contrib-python, mediapipe\n",
      "Successfully installed mediapipe-0.9.1.0 opencv-contrib-python-4.7.0.72\n",
      "Note: you may need to restart the kernel to use updated packages.\n"
     ]
    }
   ],
   "source": [
    "pip install mediapipe"
   ]
  },
  {
   "cell_type": "code",
   "execution_count": 2,
   "id": "ae3e21a0",
   "metadata": {},
   "outputs": [
    {
     "name": "stdout",
     "output_type": "stream",
     "text": [
      "\u001b[31mERROR: Could not find a version that satisfies the requirement cv2 (from versions: none)\u001b[0m\n",
      "\u001b[31mERROR: No matching distribution found for cv2\u001b[0m\n",
      "Note: you may need to restart the kernel to use updated packages.\n"
     ]
    }
   ],
   "source": [
    "pip install cv2"
   ]
  },
  {
   "cell_type": "code",
   "execution_count": 34,
   "id": "dffad0a1",
   "metadata": {},
   "outputs": [
    {
     "name": "stdout",
     "output_type": "stream",
     "text": [
      "640.0 480.0\n"
     ]
    },
    {
     "ename": "KeyboardInterrupt",
     "evalue": "",
     "output_type": "error",
     "traceback": [
      "\u001b[1;31m---------------------------------------------------------------------------\u001b[0m",
      "\u001b[1;31mKeyboardInterrupt\u001b[0m                         Traceback (most recent call last)",
      "Cell \u001b[1;32mIn[34], line 83\u001b[0m\n\u001b[0;32m     68\u001b[0m \u001b[38;5;66;03m#         mp_drawing.draw_landmarks(\u001b[39;00m\n\u001b[0;32m     69\u001b[0m \u001b[38;5;66;03m#             image=image,\u001b[39;00m\n\u001b[0;32m     70\u001b[0m \u001b[38;5;66;03m#             landmark_list=face_landmarks,\u001b[39;00m\n\u001b[1;32m   (...)\u001b[0m\n\u001b[0;32m     73\u001b[0m \u001b[38;5;66;03m#             connection_drawing_spec=mp_drawing_styles\u001b[39;00m\n\u001b[0;32m     74\u001b[0m \u001b[38;5;66;03m#             .get_default_face_mesh_tesselation_style())\u001b[39;00m\n\u001b[0;32m     76\u001b[0m             mp_drawing\u001b[38;5;241m.\u001b[39mdraw_landmarks(\n\u001b[0;32m     77\u001b[0m               image\u001b[38;5;241m=\u001b[39mimage,\n\u001b[0;32m     78\u001b[0m               landmark_list\u001b[38;5;241m=\u001b[39ml,\n\u001b[1;32m   (...)\u001b[0m\n\u001b[0;32m     81\u001b[0m               connection_drawing_spec\u001b[38;5;241m=\u001b[39mmp_drawing_styles\n\u001b[0;32m     82\u001b[0m               \u001b[38;5;241m.\u001b[39mget_default_face_mesh_tesselation_style())\n\u001b[1;32m---> 83\u001b[0m         \u001b[43mcv2\u001b[49m\u001b[38;5;241;43m.\u001b[39;49m\u001b[43mimshow\u001b[49m\u001b[43m(\u001b[49m\u001b[38;5;124;43m'\u001b[39;49m\u001b[38;5;124;43mMediaPipe FaceMesh\u001b[39;49m\u001b[38;5;124;43m'\u001b[39;49m\u001b[43m,\u001b[49m\u001b[43m \u001b[49m\u001b[43mimage\u001b[49m\u001b[43m)\u001b[49m\n\u001b[0;32m     84\u001b[0m         \u001b[38;5;28;01mif\u001b[39;00m cv2\u001b[38;5;241m.\u001b[39mwaitKey(\u001b[38;5;241m5\u001b[39m) \u001b[38;5;241m&\u001b[39m \u001b[38;5;241m0xFF\u001b[39m \u001b[38;5;241m==\u001b[39m \u001b[38;5;241m27\u001b[39m:\n\u001b[0;32m     85\u001b[0m             \u001b[38;5;28;01mbreak\u001b[39;00m\n",
      "\u001b[1;31mKeyboardInterrupt\u001b[0m: "
     ]
    }
   ],
   "source": [
    "from mediapipe.framework.formats import landmark_pb2\n",
    "import cv2\n",
    "import mediapipe as mp\n",
    "mp_drawing = mp.solutions.drawing_utils\n",
    "mp_drawing_styles = mp.solutions.drawing_styles\n",
    "mp_face_mesh = mp.solutions.face_mesh\n",
    "\n",
    "# For webcam input:\n",
    "drawing_spec = mp_drawing.DrawingSpec(thickness=1, circle_radius=1)\n",
    "cap = cv2.VideoCapture(0)\n",
    "w = cap.get(cv2.CAP_PROP_FRAME_WIDTH)\n",
    "h = cap.get(cv2.CAP_PROP_FRAME_HEIGHT)\n",
    "print(w,h)\n",
    "max_eye = 0\n",
    "max_fw = 0\n",
    "max_pd = 0\n",
    "max_nw = 0\n",
    "with mp_face_mesh.FaceMesh(\n",
    "    refine_landmarks = True,\n",
    "    min_detection_confidence=0.5,\n",
    "    min_tracking_confidence=0.5) as face_mesh:\n",
    "    while cap.isOpened():\n",
    "        success, image = cap.read()\n",
    "        \n",
    "        if not success:\n",
    "            print(\"Ignoring empty camera frame.\")\n",
    "            # If loading a video, use 'break' instead of 'continue'.\n",
    "            continue\n",
    "\n",
    "        # Flip the image horizontally for a later selfie-view display, and convert\n",
    "        # the BGR image to RGB.\n",
    "        image = cv2.cvtColor(cv2.flip(image, 1), cv2.COLOR_BGR2RGB)\n",
    "        # To improve performance, optionally mark the image as not writeable to\n",
    "        # pass by reference.\n",
    "        image.flags.writeable = False\n",
    "        results = face_mesh.process(image)\n",
    "\n",
    "        # Draw the face mesh annotations on the image.\n",
    "        image.flags.writeable = True\n",
    "        image = cv2.cvtColor(image, cv2.COLOR_RGB2BGR)\n",
    "        if results.multi_face_landmarks:\n",
    "            for face_landmarks in results.multi_face_landmarks :\n",
    "                l=[]\n",
    "                for i in face_landmarks.landmark:\n",
    "                    l.append(i)\n",
    "            image_dist = mp_drawing.math.dist((l[471].x*int(h),l[471].y*int(w)),(l[469].x*int(h),l[469].y*int(w)))\n",
    "            image_dist_2 = mp_drawing.math.dist((l[35].x*int(h),l[35].y*int(w)),(l[133].x*int(h),l[133].y*int(w)))\n",
    "            image_dist_3 = mp_drawing.math.dist((l[34].x*int(h),l[34].y*int(w)),(l[264].x*int(h),l[264].y*int(w)))\n",
    "            image_dist_4 = mp_drawing.math.dist((l[473].x*int(h),l[473].y*int(w)),(l[468].x*int(h),l[468].y*int(w)))\n",
    "            image_dist_5 = mp_drawing.math.dist((l[193].x*int(h),l[193].y*int(w)),(l[413].x*int(h),l[413].y*int(w)))\n",
    "            real_dist = 1.1\n",
    "            otpr = real_dist/image_dist\n",
    "            i = otpr*image_dist_2\n",
    "            if max_eye<i:\n",
    "                max_eye=i\n",
    "            c = otpr*image_dist_3\n",
    "            if max_fw<c:\n",
    "                max_fw=c\n",
    "            p = otpr*image_dist_4\n",
    "            if max_pd<p:\n",
    "                max_pd=p\n",
    "            nw = otpr*image_dist_5\n",
    "            if max_nw<nw:\n",
    "                max_nw=nw\n",
    "                \n",
    "            l = landmark_pb2.NormalizedLandmarkList(\n",
    "            landmark = [l[413]])\n",
    "#         mp_drawing.draw_landmarks(\n",
    "#             image=image,\n",
    "#             landmark_list=face_landmarks,\n",
    "#             connections=mp_face_mesh.FACEMESH_LEFT_EYE,\n",
    "#             landmark_drawing_spec=None,\n",
    "#             connection_drawing_spec=mp_drawing_styles\n",
    "#             .get_default_face_mesh_tesselation_style())\n",
    "        \n",
    "            mp_drawing.draw_landmarks(\n",
    "              image=image,\n",
    "              landmark_list=l,\n",
    "              connections=None,\n",
    "              landmark_drawing_spec=mp_drawing_styles.DrawingSpec((0,0,0),1),\n",
    "              connection_drawing_spec=mp_drawing_styles\n",
    "              .get_default_face_mesh_tesselation_style())\n",
    "        cv2.imshow('MediaPipe FaceMesh', image)\n",
    "        if cv2.waitKey(5) & 0xFF == 27:\n",
    "            break\n",
    "cap.release()\n",
    " "
   ]
  },
  {
   "cell_type": "code",
   "execution_count": 35,
   "id": "c708b0af",
   "metadata": {},
   "outputs": [
    {
     "data": {
      "text/plain": [
       "3.656799180781168"
      ]
     },
     "execution_count": 35,
     "metadata": {},
     "output_type": "execute_result"
    }
   ],
   "source": [
    "max_eye"
   ]
  },
  {
   "cell_type": "code",
   "execution_count": 36,
   "id": "aab30d2c",
   "metadata": {},
   "outputs": [
    {
     "data": {
      "text/plain": [
       "12.291944798543456"
      ]
     },
     "execution_count": 36,
     "metadata": {},
     "output_type": "execute_result"
    }
   ],
   "source": [
    "max_fw"
   ]
  },
  {
   "cell_type": "code",
   "execution_count": 37,
   "id": "6f63d131",
   "metadata": {},
   "outputs": [
    {
     "data": {
      "text/plain": [
       "6.055924622046249"
      ]
     },
     "execution_count": 37,
     "metadata": {},
     "output_type": "execute_result"
    }
   ],
   "source": [
    "max_pd"
   ]
  },
  {
   "cell_type": "code",
   "execution_count": 38,
   "id": "16ccb58c",
   "metadata": {},
   "outputs": [
    {
     "data": {
      "text/plain": [
       "1.9421508792537636"
      ]
     },
     "execution_count": 38,
     "metadata": {},
     "output_type": "execute_result"
    }
   ],
   "source": [
    "max_nw"
   ]
  },
  {
   "cell_type": "code",
   "execution_count": null,
   "id": "3dd416a4",
   "metadata": {},
   "outputs": [],
   "source": []
  }
 ],
 "metadata": {
  "kernelspec": {
   "display_name": "Python 3 (ipykernel)",
   "language": "python",
   "name": "python3"
  },
  "language_info": {
   "codemirror_mode": {
    "name": "ipython",
    "version": 3
   },
   "file_extension": ".py",
   "mimetype": "text/x-python",
   "name": "python",
   "nbconvert_exporter": "python",
   "pygments_lexer": "ipython3",
   "version": "3.9.12"
  }
 },
 "nbformat": 4,
 "nbformat_minor": 5
}
