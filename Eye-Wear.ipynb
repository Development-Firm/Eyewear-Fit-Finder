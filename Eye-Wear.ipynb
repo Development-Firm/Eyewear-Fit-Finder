{
 "cells": [
  {
   "cell_type": "code",
   "execution_count": 110,
   "id": "dffad0a1",
   "metadata": {},
   "outputs": [
    {
     "name": "stdout",
     "output_type": "stream",
     "text": [
      "640.0 480.0\n"
     ]
    },
    {
     "ename": "KeyboardInterrupt",
     "evalue": "",
     "output_type": "error",
     "traceback": [
      "\u001b[1;31m---------------------------------------------------------------------------\u001b[0m",
      "\u001b[1;31mKeyboardInterrupt\u001b[0m                         Traceback (most recent call last)",
      "Cell \u001b[1;32mIn[110], line 101\u001b[0m\n\u001b[0;32m     99\u001b[0m         mxnenl \u001b[38;5;241m=\u001b[39m max_ne\u001b[38;5;241m/\u001b[39mmax_nl\n\u001b[0;32m    100\u001b[0m         angle \u001b[38;5;241m=\u001b[39m math\u001b[38;5;241m.\u001b[39mdegrees(math\u001b[38;5;241m.\u001b[39masin(mxnenl))\n\u001b[1;32m--> 101\u001b[0m         \u001b[38;5;28;01mif\u001b[39;00m \u001b[43mcv2\u001b[49m\u001b[38;5;241;43m.\u001b[39;49m\u001b[43mwaitKey\u001b[49m\u001b[43m(\u001b[49m\u001b[38;5;241;43m5\u001b[39;49m\u001b[43m)\u001b[49m \u001b[38;5;241m&\u001b[39m \u001b[38;5;241m0xFF\u001b[39m \u001b[38;5;241m==\u001b[39m \u001b[38;5;241m27\u001b[39m:\n\u001b[0;32m    102\u001b[0m             \u001b[38;5;28;01mbreak\u001b[39;00m\n\u001b[0;32m    103\u001b[0m cap\u001b[38;5;241m.\u001b[39mrelease()\n",
      "\u001b[1;31mKeyboardInterrupt\u001b[0m: "
     ]
    }
   ],
   "source": [
    "from mediapipe.framework.formats import landmark_pb2\n",
    "import cv2\n",
    "import mediapipe as mp\n",
    "import math\n",
    "mp_drawing = mp.solutions.drawing_utils\n",
    "mp_drawing_styles = mp.solutions.drawing_styles\n",
    "mp_face_mesh = mp.solutions.face_mesh\n",
    "\n",
    "# For webcam input:\n",
    "drawing_spec = mp_drawing.DrawingSpec(thickness=1, circle_radius=1)\n",
    "cap = cv2.VideoCapture(0)\n",
    "w = cap.get(cv2.CAP_PROP_FRAME_WIDTH)\n",
    "h = cap.get(cv2.CAP_PROP_FRAME_HEIGHT)\n",
    "\n",
    "print(w,h)\n",
    "max_eye = 0\n",
    "max_fw = 0\n",
    "max_pd = 0\n",
    "max_nw = 0\n",
    "max_nl = 0\n",
    "max_ne = 0\n",
    "img_dist = 0.001\n",
    "with mp_face_mesh.FaceMesh(\n",
    "    refine_landmarks = True,\n",
    "    min_detection_confidence=0.5,\n",
    "    min_tracking_confidence=0.5) as face_mesh:\n",
    "    while cap.isOpened():\n",
    "        success, image = cap.read()\n",
    "        \n",
    "        if not success:\n",
    "            print(\"Ignoring empty camera frame.\")\n",
    "            # If loading a video, use 'break' instead of 'continue'.\n",
    "            continue\n",
    "\n",
    "        # Flip the image horizontally for a later selfie-view display, and convert\n",
    "        # the BGR image to RGB.\n",
    "        image = cv2.cvtColor(cv2.flip(image, 1), cv2.COLOR_BGR2RGB)\n",
    "        # To improve performance, optionally mark the image as not writeable to\n",
    "        # pass by reference.\n",
    "        image.flags.writeable = False\n",
    "        results = face_mesh.process(image)\n",
    "\n",
    "        # Draw the face mesh annotations on the image.\n",
    "        image.flags.writeable = True\n",
    "        image = cv2.cvtColor(image, cv2.COLOR_RGB2BGR)\n",
    "        if results.multi_face_landmarks:\n",
    "            for face_landmarks in results.multi_face_landmarks :\n",
    "                l=[]\n",
    "                for i in face_landmarks.landmark:\n",
    "                    l.append(i)\n",
    "            image_dist = mp_drawing.math.dist((l[471].x*int(h),l[471].y*int(w)),(l[469].x*int(h),l[469].y*int(w)))\n",
    "            image_dist_2 = mp_drawing.math.dist((l[35].x*int(h),l[35].y*int(w)),(l[133].x*int(h),l[133].y*int(w)))\n",
    "            image_dist_3 = mp_drawing.math.dist((l[34].x*int(h),l[34].y*int(w)),(l[264].x*int(h),l[264].y*int(w)))\n",
    "            image_dist_4 = mp_drawing.math.dist((l[473].x*int(h),l[473].y*int(w)),(l[468].x*int(h),l[468].y*int(w)))\n",
    "            image_dist_5 = mp_drawing.math.dist((l[193].x*int(h),l[193].y*int(w)),(l[413].x*int(h),l[413].y*int(w)))\n",
    "            image_dist_6 = mp_drawing.math.dist((l[168].x*int(h),l[168].y*int(w)),(l[4].x*int(h),l[4].y*int(w)))\n",
    "            image_dist_7 = mp_drawing.math.dist((l[102].x*int(h),l[102].y*int(w)),(l[4].x*int(h),l[4].y*int(w)))\n",
    "            if image_dist >img_dist:\n",
    "                img_dist = image_dist\n",
    "            real_dist = 1.1\n",
    "            otpr = real_dist/img_dist\n",
    "            i = otpr*image_dist_2\n",
    "            if max_eye<i:\n",
    "                max_eye=i\n",
    "            c = otpr*image_dist_3\n",
    "            if max_fw<c:\n",
    "                max_fw=c\n",
    "            p = otpr*image_dist_4\n",
    "            if max_pd<p:\n",
    "                max_pd=p\n",
    "            nw = otpr*image_dist_5\n",
    "            if max_nw<nw:\n",
    "                max_nw=nw\n",
    "            nl = otpr*image_dist_6\n",
    "            if max_nl<nl:\n",
    "                max_nl=nl\n",
    "            ne = otpr*image_dist_7\n",
    "            if max_ne<ne:\n",
    "                max_ne=ne\n",
    "            ne = otpr*image_dist_7\n",
    "            l = landmark_pb2.NormalizedLandmarkList(\n",
    "            landmark = [l[413]])\n",
    "#         mp_drawing.draw_landmarks(\n",
    "#             image=image,\n",
    "#             landmark_list=face_landmarks,\n",
    "#             connections=mp_face_mesh.FACEMESH_LEFT_EYE,\n",
    "#             landmark_drawing_spec=None,\n",
    "#             connection_drawing_spec=mp_drawing_styles\n",
    "#             .get_default_face_mesh_tesselation_style())\n",
    "        \n",
    "            mp_drawing.draw_landmarks(\n",
    "              image=image,\n",
    "              landmark_list=l,\n",
    "              connections=None,\n",
    "              landmark_drawing_spec=mp_drawing_styles.DrawingSpec((0,0,0),1),\n",
    "              connection_drawing_spec=mp_drawing_styles\n",
    "              .get_default_face_mesh_tesselation_style())\n",
    "        cv2.imshow('MediaPipe FaceMesh', image)\n",
    "        mxnenl = max_ne/max_nl\n",
    "        angle = math.degrees(math.asin(mxnenl))\n",
    "        if cv2.waitKey(5) & 0xFF == 27:\n",
    "            break\n",
    "cap.release()\n",
    "\n",
    " "
   ]
  },
  {
   "cell_type": "code",
   "execution_count": 111,
   "id": "c708b0af",
   "metadata": {},
   "outputs": [
    {
     "data": {
      "text/plain": [
       "9.336174196541197"
      ]
     },
     "execution_count": 111,
     "metadata": {},
     "output_type": "execute_result"
    }
   ],
   "source": [
    "max_eye"
   ]
  },
  {
   "cell_type": "code",
   "execution_count": 112,
   "id": "aab30d2c",
   "metadata": {},
   "outputs": [
    {
     "data": {
      "text/plain": [
       "19.663420275653223"
      ]
     },
     "execution_count": 112,
     "metadata": {},
     "output_type": "execute_result"
    }
   ],
   "source": [
    "max_fw"
   ]
  },
  {
   "cell_type": "code",
   "execution_count": 113,
   "id": "6f63d131",
   "metadata": {},
   "outputs": [
    {
     "data": {
      "text/plain": [
       "9.673573540941574"
      ]
     },
     "execution_count": 113,
     "metadata": {},
     "output_type": "execute_result"
    }
   ],
   "source": [
    "max_pd"
   ]
  },
  {
   "cell_type": "code",
   "execution_count": 114,
   "id": "16ccb58c",
   "metadata": {},
   "outputs": [
    {
     "data": {
      "text/plain": [
       "2.554044767087242"
      ]
     },
     "execution_count": 114,
     "metadata": {},
     "output_type": "execute_result"
    }
   ],
   "source": [
    "max_nw"
   ]
  },
  {
   "cell_type": "code",
   "execution_count": 115,
   "id": "3dd416a4",
   "metadata": {},
   "outputs": [
    {
     "data": {
      "text/plain": [
       "10.044138074592427"
      ]
     },
     "execution_count": 115,
     "metadata": {},
     "output_type": "execute_result"
    }
   ],
   "source": [
    "image_dist"
   ]
  },
  {
   "cell_type": "code",
   "execution_count": 116,
   "id": "2e62aa59",
   "metadata": {},
   "outputs": [
    {
     "data": {
      "text/plain": [
       "14.850583373807178"
      ]
     },
     "execution_count": 116,
     "metadata": {},
     "output_type": "execute_result"
    }
   ],
   "source": [
    "max_nl"
   ]
  },
  {
   "cell_type": "code",
   "execution_count": 117,
   "id": "fec9a9ab",
   "metadata": {},
   "outputs": [
    {
     "data": {
      "text/plain": [
       "6.8130529465189555"
      ]
     },
     "execution_count": 117,
     "metadata": {},
     "output_type": "execute_result"
    }
   ],
   "source": [
    "max_ne"
   ]
  },
  {
   "cell_type": "code",
   "execution_count": 118,
   "id": "cee9f22c",
   "metadata": {},
   "outputs": [
    {
     "data": {
      "text/plain": [
       "27.307986921217367"
      ]
     },
     "execution_count": 118,
     "metadata": {},
     "output_type": "execute_result"
    }
   ],
   "source": [
    "angle"
   ]
  },
  {
   "cell_type": "code",
   "execution_count": 89,
   "id": "43d2a574",
   "metadata": {},
   "outputs": [
    {
     "data": {
      "text/plain": [
       "0.47627481707832753"
      ]
     },
     "execution_count": 89,
     "metadata": {},
     "output_type": "execute_result"
    }
   ],
   "source": [
    "math.asin(2.76/6.02)"
   ]
  },
  {
   "cell_type": "code",
   "execution_count": 91,
   "id": "e6339e2d",
   "metadata": {},
   "outputs": [
    {
     "data": {
      "text/plain": [
       "0.45798763919552543"
      ]
     },
     "execution_count": 91,
     "metadata": {},
     "output_type": "execute_result"
    }
   ],
   "source": [
    "mxnenl"
   ]
  },
  {
   "cell_type": "code",
   "execution_count": 94,
   "id": "75b6d2ae",
   "metadata": {},
   "outputs": [
    {
     "data": {
      "text/plain": [
       "0.4757301465144362"
      ]
     },
     "execution_count": 94,
     "metadata": {},
     "output_type": "execute_result"
    }
   ],
   "source": [
    "math."
   ]
  },
  {
   "cell_type": "code",
   "execution_count": null,
   "id": "a0e553d8",
   "metadata": {},
   "outputs": [],
   "source": []
  }
 ],
 "metadata": {
  "kernelspec": {
   "display_name": "Python 3 (ipykernel)",
   "language": "python",
   "name": "python3"
  },
  "language_info": {
   "codemirror_mode": {
    "name": "ipython",
    "version": 3
   },
   "file_extension": ".py",
   "mimetype": "text/x-python",
   "name": "python",
   "nbconvert_exporter": "python",
   "pygments_lexer": "ipython3",
   "version": "3.10.9"
  }
 },
 "nbformat": 4,
 "nbformat_minor": 5
}
